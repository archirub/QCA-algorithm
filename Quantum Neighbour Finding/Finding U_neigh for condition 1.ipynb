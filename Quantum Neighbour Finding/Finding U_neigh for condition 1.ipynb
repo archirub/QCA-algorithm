{
 "cells": [
  {
   "cell_type": "code",
   "execution_count": 1,
   "id": "520103c9",
   "metadata": {},
   "outputs": [],
   "source": [
    "import random\n",
    "\n",
    "import numpy as np\n",
    "import matplotlib.pyplot as plt\n",
    "\n",
    "import qiskit as qs\n",
    "from qiskit import Aer\n",
    "from qiskit.circuit.library import MCMT\n",
    "from qiskit.tools.visualization import plot_histogram"
   ]
  },
  {
   "cell_type": "markdown",
   "id": "9d5436c2",
   "metadata": {},
   "source": [
    "We want to generate the matrix for $U_{neigh}$ for a n-bit string in terms of basic transformations. It is a diagonal matrix, with 1s where the strings don't match and -1s where they do match.\n",
    "\n",
    "We imagine we have to registeries which are made of qubit strings of same size n."
   ]
  },
  {
   "cell_type": "code",
   "execution_count": 2,
   "id": "d0ff6cc9",
   "metadata": {},
   "outputs": [],
   "source": [
    "def binstr(i):\n",
    "    \"Given an int 'i', returns the corresponding binary string\"\n",
    "    return '{0:b}'.format(i)"
   ]
  },
  {
   "cell_type": "code",
   "execution_count": 3,
   "id": "a0861d7d",
   "metadata": {},
   "outputs": [],
   "source": [
    "def unpackbits(x, num_bits):\n",
    "    \"\"\"\n",
    "    Converts an array of integers to arrays of binary representation, whose\n",
    "    length adapts \n",
    "    \n",
    "    x = array of integers to convert to binary\n",
    "    num_bits = number of bits needed (i.e. number of bits of largest integer)\n",
    "    \n",
    "    source: https://stackoverflow.com/questions/18296035/how-to-extract-the-bits-of-larger-numeric-numpy-data-types\n",
    "    \"\"\"\n",
    "    if np.issubdtype(x.dtype, np.floating):\n",
    "        raise ValueError(\"numpy data type needs to be int-like\")\n",
    "    xshape = list(x.shape)\n",
    "    x = x.reshape([-1, 1])\n",
    "    mask = 2**np.arange(num_bits, dtype=x.dtype).reshape([1, num_bits])\n",
    "    \n",
    "    unpackedbits = (x & mask).astype(bool).astype(int).reshape(xshape + [num_bits])\n",
    "    \n",
    "    # had to add this myself as it gives the flipped version of what I am looking for\n",
    "    return np.flip(unpackedbits, axis=1)\n",
    "\n"
   ]
  },
  {
   "cell_type": "code",
   "execution_count": 4,
   "id": "48f7b164",
   "metadata": {},
   "outputs": [],
   "source": [
    "def U_neigh_diag(n):\n",
    "    \"\"\"Returns the elements on the diagonal of U_neigh\n",
    "    \n",
    "    n: size of the binary strings to compare, A and B.\n",
    "    \"\"\"\n",
    "    mat_size = 2**(2*n) # size of the corresponding matrix needed to represent U_neigh\n",
    "\n",
    "    # get array of indices as integers (shape = (n, 1))\n",
    "    mat_indices = np.indices((mat_size,))[0]\n",
    "\n",
    "    # convert to binary string format\n",
    "    mat_indices_binary = unpackbits(mat_indices, 2*n)\n",
    "\n",
    "    # split into the string corresponding to string A and that corresponding to string B\n",
    "    indices_stringA, indices_stringB = mat_indices_binary[:, :n], mat_indices_binary[:, n:]\n",
    "\n",
    "    # convert to a Boolean array that indicates when A and B are exactly equal or not\n",
    "    equal_strings = np.all(indices_stringA == indices_stringB, axis=1)\n",
    "\n",
    "    # converts to an array of -1s and 1s, where we have -1 when A = B and 1 otherwise.\n",
    "    mat_diag = -2*(equal_strings - 0.5)\n",
    "    \n",
    "    return mat_diag\n",
    "\n",
    "# n = 4\n",
    "# mat_diag = U_neigh_diag(n)"
   ]
  },
  {
   "cell_type": "code",
   "execution_count": 5,
   "id": "76f36f4b",
   "metadata": {},
   "outputs": [],
   "source": [
    "n = 1 # size of the binary strings to compare\n",
    "mat_size = 2**(2*n) # size of the corresponding matrix needed to represent U_neigh\n",
    "\n",
    "# get array of indices as integers (shape = (n, 1))\n",
    "mat_indices = np.indices((mat_size,))[0]\n",
    "\n",
    "# convert to binary string format\n",
    "mat_indices_binary = unpackbits(mat_indices, 2*n)\n",
    "\n",
    "# split into the string corresponding to string A and that corresponding to string B\n",
    "indices_stringA, indices_stringB = mat_indices_binary[:, :n], mat_indices_binary[:, n:]\n",
    "\n",
    "# convert to a Boolean array that indicates when A and B are exactly equal or not\n",
    "equal_strings = np.all(indices_stringA == indices_stringB, axis=1)\n",
    "\n",
    "# converts to an array of -1s and 1s, where we have -1 when A = B and 1 otherwise.\n",
    "mat_diag = -2*(equal_strings - 0.5)"
   ]
  },
  {
   "cell_type": "code",
   "execution_count": 6,
   "id": "0fa85cff",
   "metadata": {},
   "outputs": [
    {
     "name": "stdout",
     "output_type": "stream",
     "text": [
      "For n=1, we get 2 string matches between A and B.\n"
     ]
    }
   ],
   "source": [
    "matches = np.where(mat_diag == -1.0)[0]\n",
    "matches_count = matches.shape[0]\n",
    "print(f\"For n={n}, we get {matches_count} string matches between A and B.\")"
   ]
  },
  {
   "cell_type": "markdown",
   "id": "4948251f",
   "metadata": {},
   "source": [
    "We find that for comparison of n-bit strings, there are $2^n$ matches. This is as expected since there are 2^n possible n-bit strings and that the matrix covers all possible combinations for both strings A and B."
   ]
  },
  {
   "cell_type": "code",
   "execution_count": 7,
   "id": "8271b617",
   "metadata": {},
   "outputs": [
    {
     "data": {
      "text/plain": [
       "True"
      ]
     },
     "execution_count": 7,
     "metadata": {},
     "output_type": "execute_result"
    }
   ],
   "source": [
    "np.unique(np.diff(matches))[0] == 2**n + 1"
   ]
  },
  {
   "cell_type": "markdown",
   "id": "40796ed6",
   "metadata": {},
   "source": [
    "The matches occur at regular intervals with a period of $2^n + 1$."
   ]
  },
  {
   "cell_type": "markdown",
   "id": "5cf72924",
   "metadata": {},
   "source": [
    "## Building the transformation\n",
    "\n"
   ]
  },
  {
   "cell_type": "code",
   "execution_count": 8,
   "id": "bd528c54",
   "metadata": {},
   "outputs": [],
   "source": [
    "def equal_gate():\n",
    "    \"\"\"\n",
    "    Equivalent to the XNOR gate.\n",
    "    \n",
    "    Qubits 0 and 1 are input,\n",
    "    Qubit 2 is the output. It is flipped if inputs are equal, left unchanged otherwise.\n",
    "    \n",
    "    (a, b, c) -> (a, b, c + ~(a + b))\n",
    "    \"\"\"\n",
    "    circ = qs.QuantumCircuit(3, name=\"EQUAL\")\n",
    "    circ.cx(0, 2)\n",
    "    circ.cx(1, 2)\n",
    "    circ.x(2)\n",
    "    \n",
    "    return circ.to_gate()\n",
    "\n",
    "def multi_and_gate(num_ctrl):\n",
    "    \"\"\"\n",
    "    Equivalent to a n-Controlled NOT gate.\n",
    "    \n",
    "    num_ctrl is the number of control qubits.\n",
    "    \n",
    "    Qubit 0 is the target, and qubits 1 to n are the control.\n",
    "    \n",
    "    (b, a_1, a_2, ..., a_n) -> (b + a_1^a_2^...a_n, a_1, a_2, ..., a_n)\n",
    "    \"\"\"\n",
    "    \n",
    "    circ = MCMT(\"x\", num_ctrl_qubits=num_ctrl, num_target_qubits=1)\n",
    "    return circ.to_gate(label=\"AND\")\n",
    "\n",
    "def f_gate(n):\n",
    "    \"\"\"\n",
    "    Returns instructions for the gate which implements function f,\n",
    "    the function at the center of U_neigh\n",
    "    \n",
    "    n is the length of the input binary strings, a and b.\n",
    "    \n",
    "    This gate requires 3n + 1 qubits.\n",
    "    \"\"\"\n",
    "    input_a = qs.QuantumRegister(n, name=\"in_a\")\n",
    "    input_b = qs.QuantumRegister(n, name=\"in_b\")\n",
    "    anc = qs.QuantumRegister(n, name=\"ancilla\")\n",
    "    output = qs.QuantumRegister(1, name=\"out\")\n",
    "\n",
    "    f = qs.QuantumCircuit(input_a, input_b, anc, output, name=\"F\")\n",
    "    for i in range(n):\n",
    "        f.append(equal_gate(), [input_a[i], input_b[i], anc[i]])\n",
    "    f.append(multi_and_gate(n), anc[:]+output[:])\n",
    "\n",
    "    return f.to_gate()"
   ]
  },
  {
   "cell_type": "code",
   "execution_count": 13,
   "id": "80c193b9",
   "metadata": {},
   "outputs": [],
   "source": [
    "a = qs.QuantumRegister(n, name=\"in_a\")"
   ]
  },
  {
   "cell_type": "code",
   "execution_count": 18,
   "id": "e0027d27",
   "metadata": {},
   "outputs": [
    {
     "data": {
      "text/plain": [
       "[Qubit(QuantumRegister(2, 'in_a'), 0), Qubit(QuantumRegister(2, 'in_a'), 1)]"
      ]
     },
     "execution_count": 18,
     "metadata": {},
     "output_type": "execute_result"
    }
   ],
   "source": [
    "a[:]"
   ]
  },
  {
   "cell_type": "code",
   "execution_count": 9,
   "id": "cb5d7f99",
   "metadata": {},
   "outputs": [],
   "source": [
    "# Developing a systematic test for f_gate\n",
    "\n",
    "def classical_f(a, b):\n",
    "    if len(a) != len(b):\n",
    "        raise Exception(\"Input lengths must be the same.\")\n",
    "    \n",
    "    # Computing whether each bit is equal\n",
    "    anc = \"\"\n",
    "    for i in range(len(a)):\n",
    "        anc += \"1\" if a[i] == b[i] else \"0\"\n",
    "    \n",
    "    # Making output equal if all anc are 1 (i.e. if all bits were equal)\n",
    "    out = \"1\" if anc == len(anc)*\"1\" else \"0\"\n",
    "    \n",
    "    final_state = a+b+anc+out\n",
    "    final_state = final_state[::-1]# must be reversed to match Qiskit syntax\n",
    "    \n",
    "    return final_state\n",
    "\n",
    "def quantum_f(a, b):\n",
    "    \n",
    "    if len(a) != len(b):\n",
    "            raise Exception(\"Input lengths must be the same.\")\n",
    "    n = len(a)\n",
    "\n",
    "    input_a = qs.QuantumRegister(n, name=\"in_a\")\n",
    "    input_b = qs.QuantumRegister(n, name=\"in_b\")\n",
    "    anc = qs.QuantumRegister(n, name=\"ancilla\")\n",
    "    output = qs.QuantumRegister(1, name=\"out\")\n",
    "    circ = qs.QuantumCircuit(input_a, input_b, anc, output)\n",
    "\n",
    "    # making reversed arrays as strings (must be reversed to match Qiskit convention)\n",
    "    a_str = ''.join(str(x) for x in a[::-1])\n",
    "    b_str = ''.join(str(x) for x in b[::-1])\n",
    "\n",
    "    # Initializing the input states\n",
    "    circ.initialize(a_str, input_a)\n",
    "    circ.initialize(b_str, input_b)\n",
    "\n",
    "    # Adding the f gate\n",
    "    circ.append(f_gate(n), qargs=list(range(circ.num_qubits)))\n",
    "\n",
    "    # Adding measurements of all qubits\n",
    "    circ.measure_all()\n",
    "\n",
    "    print(circ)\n",
    "\n",
    "    # Running the circuit\n",
    "    simulator = Aer.get_backend('qasm_simulator')\n",
    "    result = qs.execute(circ, backend = simulator).result()\n",
    "    counts = result.get_counts()\n",
    "    outputs = list(counts.keys())\n",
    "\n",
    "    if len(outputs) > 1:\n",
    "        raise Exception(\"More than 1 result obtained\")\n",
    "\n",
    "    return outputs[0]\n",
    "\n",
    "def gen_string(n):\n",
    "    return \"\".join(random.choice(\"01\") for _ in range(n))"
   ]
  },
  {
   "cell_type": "code",
   "execution_count": 10,
   "id": "899f5dc0",
   "metadata": {},
   "outputs": [
    {
     "name": "stdout",
     "output_type": "stream",
     "text": [
      "           ┌──────────────────┐┌────┐ ░ ┌─┐                  \n",
      "   in_a_0: ┤0                 ├┤0   ├─░─┤M├──────────────────\n",
      "           │  Initialize(0,0) ││    │ ░ └╥┘┌─┐               \n",
      "   in_a_1: ┤1                 ├┤1   ├─░──╫─┤M├───────────────\n",
      "           ├──────────────────┤│    │ ░  ║ └╥┘┌─┐            \n",
      "   in_b_0: ┤0                 ├┤2   ├─░──╫──╫─┤M├────────────\n",
      "           │  Initialize(0,1) ││    │ ░  ║  ║ └╥┘┌─┐         \n",
      "   in_b_1: ┤1                 ├┤3 F ├─░──╫──╫──╫─┤M├─────────\n",
      "           └──────────────────┘│    │ ░  ║  ║  ║ └╥┘┌─┐      \n",
      "ancilla_0: ────────────────────┤4   ├─░──╫──╫──╫──╫─┤M├──────\n",
      "                               │    │ ░  ║  ║  ║  ║ └╥┘┌─┐   \n",
      "ancilla_1: ────────────────────┤5   ├─░──╫──╫──╫──╫──╫─┤M├───\n",
      "                               │    │ ░  ║  ║  ║  ║  ║ └╥┘┌─┐\n",
      "      out: ────────────────────┤6   ├─░──╫──╫──╫──╫──╫──╫─┤M├\n",
      "                               └────┘ ░  ║  ║  ║  ║  ║  ║ └╥┘\n",
      "   meas: 7/══════════════════════════════╩══╩══╩══╩══╩══╩══╩═\n",
      "                                         0  1  2  3  4  5  6 \n",
      "a=00 and b=10\n",
      "Classical output is 0100100\n",
      "Quantum output is 0100100\n",
      "Are they same? True\n"
     ]
    }
   ],
   "source": [
    "n = 2\n",
    "a = gen_string(n)\n",
    "b = gen_string(n)\n",
    "\n",
    "cl_out = classical_f(a, b)\n",
    "qu_out = quantum_f(a, b)\n",
    "\n",
    "print(f\"a={a} and b={b}\")\n",
    "print(f\"Classical output is {cl_out}\")\n",
    "print(f\"Quantum output is {qu_out}\")\n",
    "print(f\"Are they same? {cl_out==qu_out}\")"
   ]
  },
  {
   "cell_type": "code",
   "execution_count": null,
   "id": "795b51d6",
   "metadata": {},
   "outputs": [],
   "source": []
  },
  {
   "cell_type": "code",
   "execution_count": 11,
   "id": "085064cb",
   "metadata": {},
   "outputs": [
    {
     "ename": "NameError",
     "evalue": "name 'counts' is not defined",
     "output_type": "error",
     "traceback": [
      "\u001b[0;31m---------------------------------------------------------------------------\u001b[0m",
      "\u001b[0;31mNameError\u001b[0m                                 Traceback (most recent call last)",
      "\u001b[0;32m/var/folders/kf/pn8vnxyn0ml0wl398c9x4xq00000gn/T/ipykernel_57539/2900183825.py\u001b[0m in \u001b[0;36m<module>\u001b[0;34m\u001b[0m\n\u001b[1;32m      1\u001b[0m \u001b[0;32mfrom\u001b[0m \u001b[0mqiskit\u001b[0m\u001b[0;34m.\u001b[0m\u001b[0mtools\u001b[0m\u001b[0;34m.\u001b[0m\u001b[0mvisualization\u001b[0m \u001b[0;32mimport\u001b[0m \u001b[0mplot_histogram\u001b[0m\u001b[0;34m\u001b[0m\u001b[0;34m\u001b[0m\u001b[0m\n\u001b[0;32m----> 2\u001b[0;31m \u001b[0mplot_histogram\u001b[0m\u001b[0;34m(\u001b[0m\u001b[0mcounts\u001b[0m\u001b[0;34m)\u001b[0m\u001b[0;34m\u001b[0m\u001b[0;34m\u001b[0m\u001b[0m\n\u001b[0m",
      "\u001b[0;31mNameError\u001b[0m: name 'counts' is not defined"
     ]
    }
   ],
   "source": [
    "from qiskit.tools.visualization import plot_histogram\n",
    "plot_histogram(counts)"
   ]
  },
  {
   "cell_type": "markdown",
   "id": "499eaf43",
   "metadata": {},
   "source": [
    "Now your job is to build U from f. Design a check that shows you that you do obtain the transformation matrix that you are looking for. See how you can get U given that you have auxillary qubits, and hence you will need 1st to obtain the gloibal phase of your state (to check whether you have that -1) and 2nd to obtain a sort of reduced matrix that only looks at the transformation of inputs a and b concatenated (and removes the auc), otherwise you will have a much larger matrix than desired."
   ]
  },
  {
   "cell_type": "markdown",
   "id": "f1cda45a",
   "metadata": {},
   "source": [
    "Plan:\n",
    "Build the phase kickback scenario, try it for n=1 with a superposition of |a>|b> = (|0>+|1>)(|0>+|1>) and see whether you have relative phases of -1 between them.\n",
    "\n",
    "Problem: it's very difficult to measure relative phase. I would need to build an entirely new circuit."
   ]
  },
  {
   "cell_type": "code",
   "execution_count": 19,
   "id": "3d351a95",
   "metadata": {},
   "outputs": [],
   "source": [
    "def equal_coeffs(n_qbits):\n",
    "    \"\"\"\n",
    "    Returns an array of the coefficients for an equal normalized superposition \n",
    "    of all possible states of an n-qubit system.\n",
    "    \"\"\"\n",
    "    n_states = 2**n_qbits\n",
    "    coeff = 1/np.sqrt(n_states)\n",
    "    coeffs = [coeff]*n_states\n",
    "    \n",
    "    return np.array(coeffs)"
   ]
  },
  {
   "cell_type": "code",
   "execution_count": 20,
   "id": "f4e81532",
   "metadata": {},
   "outputs": [
    {
     "name": "stdout",
     "output_type": "stream",
     "text": [
      "         ┌─────────────────────────────┐ ┌────┐\n",
      "   in_a: ┤ Initialize(0.70711,0.70711) ├─┤0   ├\n",
      "         ├─────────────────────────────┤ │    │\n",
      "   in_b: ┤ Initialize(0.70711,0.70711) ├─┤1   ├\n",
      "         └─────────────────────────────┘ │  F │\n",
      "ancilla: ────────────────────────────────┤2   ├\n",
      "         ┌──────────────────────────────┐│    │\n",
      "    out: ┤ Initialize(0.70711,-0.70711) ├┤3   ├\n",
      "         └──────────────────────────────┘└────┘\n"
     ]
    }
   ],
   "source": [
    "str_len = 1\n",
    "\n",
    "input_a = qs.QuantumRegister(str_len, name=\"in_a\")\n",
    "input_b = qs.QuantumRegister(str_len, name=\"in_b\")\n",
    "anc = qs.QuantumRegister(str_len, name=\"ancilla\")\n",
    "output = qs.QuantumRegister(1, name=\"out\")\n",
    "q_registers = (input_a, input_b, anc, output)\n",
    "\n",
    "mes_output = qs.ClassicalRegister(1)\n",
    "cl_registers = (mes_output,)\n",
    "\n",
    "circ = qs.QuantumCircuit(*q_registers)\n",
    "\n",
    "# Initializing the input states to equal superpositons of possible input strings for a and b\n",
    "coeffs = equal_coeffs(str_len)\n",
    "circ.initialize(coeffs, input_a)\n",
    "circ.initialize(coeffs, input_b)\n",
    "\n",
    "# Initializing the output qubit to |-> for phasekickback\n",
    "circ.initialize([1/np.sqrt(2), -1/np.sqrt(2)], output)\n",
    "\n",
    "# Adding the f gate\n",
    "circ.append(f_gate(str_len), qargs=list(range(circ.num_qubits)))\n",
    "\n",
    "# Adding measurements of qubits of a and b qubits\n",
    "# circ.measure(output, mes_output)\n",
    "# circ.measure_all()\n",
    "\n",
    "print(circ)\n",
    "\n",
    "# Running the circuit\n",
    "# simulator = Aer.get_backend('qasm_simulator')\n",
    "# result = qs.execute(circ, backend = simulator).result()\n",
    "# counts = result.get_counts()\n",
    "# plot_histogram(counts)\n",
    "\n",
    "# # Statevector simulation method\n",
    "# sim_statevector = Aer.get_backend('aer_simulator_statevector')\n",
    "# job_statevector = sim_statevector.run(circ)\n",
    "# counts_statevector = job_statevector.result().get_counts(0)"
   ]
  },
  {
   "cell_type": "code",
   "execution_count": 17,
   "id": "3cb135d4",
   "metadata": {},
   "outputs": [
    {
     "data": {
      "text/plain": [
       "Instruction(name='F', num_qubits=4, num_clbits=0, params=[])"
      ]
     },
     "execution_count": 17,
     "metadata": {},
     "output_type": "execute_result"
    }
   ],
   "source": [
    "f_gate(str_len)"
   ]
  },
  {
   "cell_type": "code",
   "execution_count": 36,
   "id": "2feb73ae",
   "metadata": {},
   "outputs": [
    {
     "data": {
      "text/latex": [
       "$$\n",
       "\\text{Statevector} = \n",
       "\\begin{bmatrix}\n",
       "0 & \\frac{\\sqrt{2}}{4} & \\frac{\\sqrt{2}}{4} & 0 & \\cdots & 0 & 0 & \\frac{\\sqrt{2}}{4}  \\\\\n",
       " \\end{bmatrix}\n",
       "$$"
      ],
      "text/plain": [
       "<IPython.core.display.Latex object>"
      ]
     },
     "execution_count": 36,
     "metadata": {},
     "output_type": "execute_result"
    }
   ],
   "source": [
    "# from https://qiskit.org/textbook/ch-gates/multiple-qubits-entangled-states.html\n",
    "# Let's see the result\n",
    "svsim = Aer.get_backend('aer_simulator')\n",
    "circ.save_statevector(label=\"sv\")\n",
    "# qobj = qs.assemble(circ)\n",
    "qobj = qs.transpile(circ, svsim)\n",
    "# qobj = qs.assemble(test)\n",
    "final_state = svsim.run(qobj).result().data()[\"sv\"]\n",
    "\n",
    "# In Jupyter Notebooks we can display this nicely using Latex.\n",
    "# If not using Jupyter Notebooks you may need to remove the \n",
    "# array_to_latex function and use print(final_state) instead.\n",
    "from qiskit.visualization import array_to_latex\n",
    "array_to_latex(final_state, prefix=\"\\\\text{Statevector} = \")\n",
    "\n",
    "# Create a Qobj from the circuit for the simulator to run\n",
    "# test = transpile(circuit, svsim)\n",
    "# qobj = assemble(test)\n",
    "\n",
    "# # Do the simulation, return the result and get the state vector\n",
    "# result = svsim.run(qobj).result().get_statevector()"
   ]
  },
  {
   "cell_type": "code",
   "execution_count": 37,
   "id": "364dc9d5",
   "metadata": {},
   "outputs": [
    {
     "name": "stdout",
     "output_type": "stream",
     "text": [
      "Statevector([ 0.        +0.j,  0.35355339+0.j,  0.35355339+0.j,\n",
      "              0.        +0.j, -0.35355339+0.j, -0.        +0.j,\n",
      "             -0.        +0.j, -0.35355339+0.j, -0.        +0.j,\n",
      "             -0.35355339+0.j, -0.35355339+0.j, -0.        +0.j,\n",
      "              0.35355339+0.j,  0.        +0.j,  0.        +0.j,\n",
      "              0.35355339+0.j],\n",
      "            dims=(2, 2, 2, 2))\n"
     ]
    }
   ],
   "source": [
    "final_state"
   ]
  },
  {
   "cell_type": "code",
   "execution_count": 20,
   "id": "d6385d8c",
   "metadata": {},
   "outputs": [
    {
     "data": {
      "text/latex": [
       "$$\n",
       "\\text{Statevector} = \n",
       "\\begin{bmatrix}\n",
       "\\frac{\\sqrt{2}}{4} & \\frac{\\sqrt{2}}{4} & \\frac{\\sqrt{2}}{4} & \\frac{\\sqrt{2}}{4} & \\frac{\\sqrt{2}}{4} & \\frac{\\sqrt{2}}{4} & \\frac{\\sqrt{2}}{4} & \\frac{\\sqrt{2}}{4}  \\\\\n",
       " \\end{bmatrix}\n",
       "$$"
      ],
      "text/plain": [
       "<IPython.core.display.Latex object>"
      ]
     },
     "execution_count": 20,
     "metadata": {},
     "output_type": "execute_result"
    }
   ],
   "source": [
    "qc = qs.QuantumCircuit(3)\n",
    "# Apply H-gate to each qubit:\n",
    "for qubit in range(3):\n",
    "    qc.h(qubit)\n",
    "# See the circuit:\n",
    "qc.draw()\n",
    "# Let's see the result\n",
    "svsim = Aer.get_backend('aer_simulator')\n",
    "qc.save_statevector()\n",
    "qobj = qs.assemble(qc)\n",
    "final_state = svsim.run(qobj).result().get_statevector()\n",
    "\n",
    "# In Jupyter Notebooks we can display this nicely using Latex.\n",
    "# If not using Jupyter Notebooks you may need to remove the \n",
    "# array_to_latex function and use print(final_state) instead.\n",
    "from qiskit.visualization import array_to_latex\n",
    "array_to_latex(final_state, prefix=\"\\\\text{Statevector} = \")"
   ]
  },
  {
   "cell_type": "code",
   "execution_count": null,
   "id": "cc738e41",
   "metadata": {},
   "outputs": [],
   "source": [
    "def init_equal_superposition():"
   ]
  },
  {
   "cell_type": "code",
   "execution_count": 739,
   "id": "4093a635",
   "metadata": {},
   "outputs": [
    {
     "data": {
      "text/plain": [
       "array([ 0.47565721-0.24398564j, -0.64844009+0.17332364j,\n",
       "        0.13694174-0.46666333j,  0.11662289-0.11652034j])"
      ]
     },
     "execution_count": 739,
     "metadata": {},
     "output_type": "execute_result"
    }
   ],
   "source": [
    "from qiskit.quantum_info import random_statevector\n",
    "state = random_statevector(4)\n",
    "state.data"
   ]
  },
  {
   "cell_type": "code",
   "execution_count": 760,
   "id": "deb66f40",
   "metadata": {},
   "outputs": [
    {
     "data": {
      "image/png": "[encoded data removed]",
      "text/plain": [
       "<Figure size 700x500 with 1 Axes>"
      ]
     },
     "execution_count": 760,
     "metadata": {},
     "output_type": "execute_result"
    }
   ],
   "source": [
    "n_qbits = 4\n",
    "qbit_indices = list(range(n_qbits))\n",
    "qc = qs.QuantumCircuit(n_qbits)\n",
    "qc.initialize(equal_coeffs(n_qbits), qbit_indices)\n",
    "qc.measure_all()\n",
    "qc.draw()\n",
    "simulator = Aer.get_backend('qasm_simulator')\n",
    "result = qs.execute(qc, backend = simulator).result()\n",
    "counts = result.get_counts()\n",
    "plot_histogram(counts)"
   ]
  },
  {
   "cell_type": "markdown",
   "id": "0844b5a5",
   "metadata": {},
   "source": [
    "To determine relative phase of states is complicated. This stackoverflow thingy suggests a way: https://physics.stackexchange.com/questions/261664/how-to-measure-relative-phases-of-quantum-states "
   ]
  },
  {
   "cell_type": "markdown",
   "id": "1999f966",
   "metadata": {},
   "source": [
    "Next step:\n",
    "- Make progress on your latex thingy,\n",
    "- Find out precisely what a diffuser is, what it would look like in your case, and how it would be implemented as a gate.\n",
    "\n",
    "https://www.cs.cmu.edu/~odonnell/quantum15/lecture04.pdf"
   ]
  },
  {
   "cell_type": "markdown",
   "id": "11093f76",
   "metadata": {},
   "source": [
    "The diffusion operator it seems is the equal superposition of all the matches. \n",
    "\n",
    "That is, \n",
    "\n",
    "\n",
    "On the qiskit website they say it is the equal superopositon of the initial state https://qiskit.org/textbook/ch-algorithms/grover.html\n",
    "\n"
   ]
  },
  {
   "cell_type": "code",
   "execution_count": null,
   "id": "35d59df0",
   "metadata": {},
   "outputs": [],
   "source": [
    "# from https://qiskit.org/textbook/ch-gates/multiple-qubits-entangled-states.html\n",
    "# Let's see the result\n",
    "svsim = Aer.get_backend('aer_simulator')\n",
    "qc.save_statevector()\n",
    "qobj = assemble(qc)\n",
    "final_state = svsim.run(qobj).result().get_statevector()\n",
    "\n",
    "# In Jupyter Notebooks we can display this nicely using Latex.\n",
    "# If not using Jupyter Notebooks you may need to remove the \n",
    "# array_to_latex function and use print(final_state) instead.\n",
    "from qiskit.visualization import array_to_latex\n",
    "array_to_latex(final_state, prefix=\"\\\\text{Statevector} = \")"
   ]
  },
  {
   "cell_type": "markdown",
   "id": "3657a00e",
   "metadata": {},
   "source": [
    "WHAT WOULD HELP FOR THE TEST OR IN GENERAL IS a function that maps a state e.g. \"0010\" to its index in the statevector representation. Then I can generate what I'm expecting the statevector to look like if my algorithm worked properly."
   ]
  },
  {
   "cell_type": "code",
   "execution_count": null,
   "id": "8083d32a",
   "metadata": {},
   "outputs": [],
   "source": []
  }
 ],
 "metadata": {
  "kernelspec": {
   "display_name": "Python 3 (ipykernel)",
   "language": "python",
   "name": "python3"
  },
  "language_info": {
   "codemirror_mode": {
    "name": "ipython",
    "version": 3
   },
   "file_extension": ".py",
   "mimetype": "text/x-python",
   "name": "python",
   "nbconvert_exporter": "python",
   "pygments_lexer": "ipython3",
   "version": "3.7.6"
  },
  "vscode": {
   "interpreter": {
    "hash": "27d1480e5e02f039e1d26cf3af0e292cbac18720c34632ef3b1d79e8327b7d05"
   }
  }
 },
 "nbformat": 4,
 "nbformat_minor": 5
}
